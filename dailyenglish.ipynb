{
  "nbformat": 4,
  "nbformat_minor": 0,
  "metadata": {
    "colab": {
      "provenance": []
    },
    "kernelspec": {
      "name": "python3",
      "display_name": "Python 3"
    },
    "language_info": {
      "name": "python"
    }
  },
  "cells": [
    {
      "cell_type": "markdown",
      "source": [],
      "metadata": {
        "id": "4YpxLVnvkliV"
      }
    },
    {
      "cell_type": "markdown",
      "source": [
        "# Projeto DailyEnglish: Seu Dia a Dia Virando Vocabulário de Inglês com IA para o Anki! 📚✨\n",
        "Este notebook Colab é o coração do DailyEnglish: um projeto que transforma seu resumo diário em vocabulário personalizado de inglês.\n",
        "\n",
        "![{ABAE71BD-DF73-406C-A81F-021AB2AC2572}.png](data:image/png;base64,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)\n",
        "\n",
        "## Como Funciona? 🤔\n",
        "Você descreve seu dia em um texto simples.\n",
        "A Inteligência Artificial (Gemini), neste notebook, irá:\n",
        "- Analisar seu texto: Entender as atividades e o contexto.\n",
        "- Extrair vocabulário: Identificar os termos e frases mais relevantes.\n",
        "- Gerar flashcards: Criar uma lista de flashcards com traduções em inglês, em csv para importar no Anki.\n",
        "\n",
        "O objetivo final é que essa lista de flashcards seja diretamente importável para o Anki, combinando a personalização com a eficiência da repetição espaçada."
      ],
      "metadata": {
        "id": "mDPQ6UgZkqFY"
      }
    },
    {
      "cell_type": "code",
      "execution_count": null,
      "metadata": {
        "id": "ROGu3G5pg8vg"
      },
      "outputs": [],
      "source": [
        "# 🚀 Instalando as Bibliotecas Necessárias\n",
        "\n",
        "!pip install -q google-genai"
      ]
    },
    {
      "cell_type": "code",
      "source": [
        "# Configuração para o display em MarkDown\n",
        "\n",
        "from IPython.display import display\n",
        "from IPython.display import Markdown\n",
        "import textwrap\n",
        "\n",
        "def to_markdown(text):\n",
        "  text = text.replace('•', '  *')\n",
        "  return Markdown(textwrap.indent(text, '> ', predicate=lambda _: True))"
      ],
      "metadata": {
        "id": "bKIojkDspD1p"
      },
      "execution_count": null,
      "outputs": []
    },
    {
      "cell_type": "code",
      "source": [
        "# Configuração da API Key\n",
        "\n",
        "import os\n",
        "from google.colab import userdata\n",
        "\n",
        "os.environ[\"GOOGLE_API_KEY\"] = userdata.get(\"GOOGLE_API_KEY\")"
      ],
      "metadata": {
        "id": "GED4mK8VnXPT"
      },
      "execution_count": null,
      "outputs": []
    },
    {
      "cell_type": "code",
      "source": [
        "# Importação da Biblioteca Genai\n",
        "\n",
        "from google import genai\n",
        "from google.genai import types"
      ],
      "metadata": {
        "id": "0bBXgb_KmI50"
      },
      "execution_count": null,
      "outputs": []
    },
    {
      "cell_type": "code",
      "source": [
        "# Configuração do cliente\n",
        "\n",
        "model_name = \"gemini-2.5-flash-preview-04-17\"\n",
        "\n",
        "client = genai.Client()\n",
        "\n",
        "config = types.GenerateContentConfig(\n",
        "            system_instruction=\"\"\"\n",
        "            Você é um assistente de aprendizado de idiomas especializado em extrair vocabulário e frases de descrições diárias, e formatá-lo diretamente para flashcards do Anki.\n",
        "\n",
        "            Recebi um resumo em português das atividades de um dia. Sua tarefa é analisar o texto e extrair de 8 a 20 dos termos, frases curtas e expressões mais importantes e úteis para alguém que está aprendendo inglês.\n",
        "\n",
        "            Para cada item extraído, você deve gerar **DUAS linhas** separadas no formato CSV (`frente;verso`), conforme as regras abaixo:\n",
        "\n",
        "            1.  **Primeira Linha:** A frente deve ser o termo em português e o verso a tradução em inglês.\n",
        "            2.  **Segunda Linha:** A frente deve ser a tradução em inglês e o verso o termo em português.\n",
        "\n",
        "            Garanta que cada par de linhas (Português-Inglês e Inglês-Português) se refira ao *mesmo* termo ou frase extraído.\n",
        "\n",
        "            Não inclua cabeçalhos, introduções, nem qualquer texto além das linhas CSV.\n",
        "\n",
        "            Exemplo de formato CSV desejado (para dois termos):\n",
        "            dia agitado;busy day\n",
        "            busy day;dia agitado\n",
        "            aula de imersão;immersion class\n",
        "            immersion class;aula de imersão\n",
        "            programação em Python;Python programming\n",
        "            Python programming;programação em Python'\n",
        "            \"\"\",\n",
        "            temperature=0.3,\n",
        "    )"
      ],
      "metadata": {
        "id": "CqlMnJHInPYp"
      },
      "execution_count": null,
      "outputs": []
    },
    {
      "cell_type": "code",
      "source": [
        "#Pega o resumo do dia e calcula a resposta\n",
        "\n",
        "resumo = \"\"\n",
        "\n",
        "while True:\n",
        "  resumo = input(\"Insira um resumo do seu dia: \")\n",
        "  if (input != \"\"):\n",
        "    break;\n",
        "\n",
        "response = client.models.generate_content(\n",
        "    model='gemini-2.0-flash-001',\n",
        "    contents=resumo,\n",
        "    config=config\n",
        ")"
      ],
      "metadata": {
        "colab": {
          "base_uri": "https://localhost:8080/"
        },
        "id": "eua5o-5ER-sI",
        "outputId": "32d25e40-e795-4f3e-8a02-358fb084bac1"
      },
      "execution_count": null,
      "outputs": [
        {
          "name": "stdout",
          "output_type": "stream",
          "text": [
            "Insira um resumo do seu dia: Hoje eu comi arroz e peidei muito\n"
          ]
        }
      ]
    },
    {
      "cell_type": "code",
      "source": [
        "# Salva a resposta em um arquivo .csv\n",
        "import csv\n",
        "\n",
        "filename = \"flashcards.csv\"\n",
        "\n",
        "with open(filename, 'w', newline='') as csvfile:\n",
        "    csvfile.write(response.text)\n",
        "\n",
        "print(f\"Seus flashcards foram gerados com Sucesso e já podem ser importados para o Anki! \\n \\n\")\n",
        "display(to_markdown(response.text))"
      ],
      "metadata": {
        "id": "79Bz0EQqTSw9",
        "colab": {
          "base_uri": "https://localhost:8080/",
          "height": 114
        },
        "outputId": "55f28c23-eef5-43d7-8aa1-1f84a5e75eeb"
      },
      "execution_count": null,
      "outputs": [
        {
          "output_type": "stream",
          "name": "stdout",
          "text": [
            "Seus flashcards foram gerados com Sucesso e já podem ser importados para o Anki! \n",
            " \n",
            "\n"
          ]
        },
        {
          "output_type": "display_data",
          "data": {
            "text/plain": [
              "<IPython.core.display.Markdown object>"
            ],
            "text/markdown": "> arroz;rice\n> rice;arroz\n> peidei muito;I farted a lot\n> I farted a lot;peidei muito\n"
          },
          "metadata": {}
        }
      ]
    }
  ]
}